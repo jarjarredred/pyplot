{
 "cells": [
  {
   "cell_type": "markdown",
   "metadata": {},
   "source": [
    "# Web Mining and Applied NLP (44-620)\n",
    "\n",
    "## Matplotlib and pyplot\n",
    "\n",
    "### Student Name: Jarred Gastreich\n",
    "https://github.com/jarjarredred/pyplot\n",
    "\n",
    "Perform the tasks described in the Markdown cells below.  When you have completed the assignment make sure your code cells have all been run (and have output beneath them) and ensure you have committed and pushed ALL of your changes to your assignment repository.\n",
    "\n",
    "Every question that requires you to write code will have a code cell underneath it; you may either write your entire solution in that cell or write it in a python file (`.py`), then import and run the appropriate code to answer the question.\n",
    "\n",
    "Do not use other external modules except `matplotlib` and `pyplot` (e.g. `math`, etc) for this assignment unless you are explicitly instructed to, though you may use built in python functions (`min`, `max`, etc) as you wish.\n",
    "\n",
    "For all of these questions, your plots must have an appropriate title and labeled axes.  Use the Matplotlib documentation as necessary to guide you through these exercises."
   ]
  },
  {
   "cell_type": "code",
   "execution_count": 9,
   "metadata": {},
   "outputs": [
    {
     "name": "stdout",
     "output_type": "stream",
     "text": [
      "All prereqs installed.\n",
      "Package                   Version\n",
      "------------------------- --------------\n",
      "anyio                     4.9.0\n",
      "argon2-cffi               23.1.0\n",
      "argon2-cffi-bindings      21.2.0\n",
      "arrow                     1.3.0\n",
      "asttokens                 3.0.0\n",
      "async-lru                 2.0.5\n",
      "attrs                     25.3.0\n",
      "babel                     2.17.0\n",
      "beautifulsoup4            4.13.4\n",
      "bleach                    6.2.0\n",
      "certifi                   2025.4.26\n",
      "cffi                      1.17.1\n",
      "charset-normalizer        3.4.2\n",
      "colorama                  0.4.6\n",
      "comm                      0.2.2\n",
      "comtypes                  1.4.11\n",
      "contourpy                 1.3.2\n",
      "cycler                    0.12.1\n",
      "debugpy                   1.8.14\n",
      "decorator                 5.2.1\n",
      "defusedxml                0.7.1\n",
      "executing                 2.2.0\n",
      "fastjsonschema            2.21.1\n",
      "fonttools                 4.58.1\n",
      "fqdn                      1.5.1\n",
      "h11                       0.16.0\n",
      "httpcore                  1.0.9\n",
      "httpx                     0.28.1\n",
      "idna                      3.10\n",
      "ipykernel                 6.29.5\n",
      "ipython                   9.3.0\n",
      "ipython_pygments_lexers   1.1.1\n",
      "ipywidgets                8.1.7\n",
      "isoduration               20.11.0\n",
      "jedi                      0.19.2\n",
      "Jinja2                    3.1.6\n",
      "json5                     0.12.0\n",
      "jsonpointer               3.0.0\n",
      "jsonschema                4.24.0\n",
      "jsonschema-specifications 2025.4.1\n",
      "jupyter                   1.1.1\n",
      "jupyter_client            8.6.3\n",
      "jupyter-console           6.6.3\n",
      "jupyter_core              5.8.1\n",
      "jupyter-events            0.12.0\n",
      "jupyter-lsp               2.2.5\n",
      "jupyter_server            2.16.0\n",
      "jupyter_server_terminals  0.5.3\n",
      "jupyterlab                4.4.3\n",
      "jupyterlab_pygments       0.3.0\n",
      "jupyterlab_server         2.27.3\n",
      "jupyterlab_widgets        3.0.15\n",
      "kiwisolver                1.4.8\n",
      "loguru                    0.7.3\n",
      "MarkupSafe                3.0.2\n",
      "matplotlib                3.10.3\n",
      "matplotlib-inline         0.1.7\n",
      "mistune                   3.1.3\n",
      "nbclient                  0.10.2\n",
      "nbconvert                 7.16.6\n",
      "nbformat                  5.10.4\n",
      "nest-asyncio              1.6.0\n",
      "notebook                  7.4.3\n",
      "notebook_shim             0.2.4\n",
      "numpy                     2.2.6\n",
      "overrides                 7.7.0\n",
      "packaging                 25.0\n",
      "pandas                    2.2.3\n",
      "pandocfilters             1.5.1\n",
      "parso                     0.8.4\n",
      "pillow                    11.2.1\n",
      "pip                       25.1.1\n",
      "platformdirs              4.3.8\n",
      "prometheus_client         0.22.1\n",
      "prompt_toolkit            3.0.51\n",
      "psutil                    7.0.0\n",
      "pure_eval                 0.2.3\n",
      "pycparser                 2.22\n",
      "Pygments                  2.19.1\n",
      "pyparsing                 3.2.3\n",
      "pypiwin32                 223\n",
      "python-dateutil           2.9.0.post0\n",
      "python-json-logger        3.3.0\n",
      "pyttsx3                   2.98\n",
      "pytz                      2025.2\n",
      "pywin32                   310\n",
      "pywinpty                  2.0.15\n",
      "PyYAML                    6.0.2\n",
      "pyzmq                     26.4.0\n",
      "referencing               0.36.2\n",
      "requests                  2.32.3\n",
      "rfc3339-validator         0.1.4\n",
      "rfc3986-validator         0.1.1\n",
      "rpds-py                   0.25.1\n",
      "seaborn                   0.13.2\n",
      "Send2Trash                1.8.3\n",
      "setuptools                80.9.0\n",
      "six                       1.17.0\n",
      "sniffio                   1.3.1\n",
      "soupsieve                 2.7\n",
      "stack-data                0.6.3\n",
      "terminado                 0.18.1\n",
      "tinycss2                  1.4.0\n",
      "tornado                   6.5.1\n",
      "traitlets                 5.14.3\n",
      "types-python-dateutil     2.9.0.20250516\n",
      "typing_extensions         4.14.0\n",
      "tzdata                    2025.2\n",
      "uri-template              1.3.0\n",
      "urllib3                   2.4.0\n",
      "wcwidth                   0.2.13\n",
      "webcolors                 24.11.1\n",
      "webencodings              0.5.1\n",
      "websocket-client          1.8.0\n",
      "wheel                     0.45.1\n",
      "widgetsnbextension        4.0.14\n",
      "win32_setctime            1.2.0\n"
     ]
    }
   ],
   "source": [
    "# Create and activate a Python virtual environment. \n",
    "# Before starting the project, try all these imports FIRST\n",
    "# Address any errors you get running this code cell \n",
    "# by installing the necessary packages into your active Python environment.\n",
    "# Try to resolve issues using your materials and the web.\n",
    "# If that doesn't work, ask for help in the discussion forums.\n",
    "# You can't complete the exercises until you import these - start early! \n",
    "# We also import Counter and randint (included in the Python Standard Library).\n",
    "\n",
    "from collections import Counter\n",
    "from random import randint\n",
    "import matplotlib.pyplot as plt\n",
    "\n",
    "print('All prereqs installed.')\n",
    "!pip list"
   ]
  },
  {
   "cell_type": "code",
   "execution_count": null,
   "metadata": {},
   "outputs": [],
   "source": []
  },
  {
   "cell_type": "markdown",
   "metadata": {},
   "source": [
    "1. Given the text below, create a bar plot (or a horizontal bar plot) that shows the frequency distribution of characters in the string. \n",
    "A dictionary has been created for you containing the characters and the frequencies of the characters.\n",
    "Make sure your bar plot has the bars labelled correctly (with the character it represents the frequency of).\n"
   ]
  },
  {
   "cell_type": "markdown",
   "metadata": {},
   "source": [
    "## Question 1"
   ]
  },
  {
   "cell_type": "code",
   "execution_count": 10,
   "metadata": {},
   "outputs": [
    {
     "data": {
      "image/png": "[encoded data removed]",
      "text/plain": [
       "<Figure size 640x480 with 1 Axes>"
      ]
     },
     "metadata": {},
     "output_type": "display_data"
    }
   ],
   "source": [
    "from collections import Counter\n",
    "TEXT = \"At three o’clock precisely I was at Baker Street, but Holmes had not yet returned. The landlady informed me that he had left the house shortly after eight o’clock in the morning. I sat down beside the fire, however, with the intention of awaiting him, however long he might be. I was already deeply interested in his inquiry, for, though it was surrounded by none of the grim and strange features which were associated with the two crimes which I have already recorded, still, the nature of the case and the exalted station of his client gave it a character of its own. Indeed, apart from the nature of the investigation which my friend had on hand, there was something in his masterly grasp of a situation, and his keen, incisive reasoning, which made it a pleasure to me to study his system of work, and to follow the quick, subtle methods by which he disentangled the most inextricable mysteries. So accustomed was I to his invariable success that the very possibility of his failing had ceased to enter into my head.\".lower()\n",
    "letter_freq = dict(Counter(TEXT))\n",
    "\n",
    "sorted_letter_freq = dict(sorted(letter_freq.items()))\n",
    "\n",
    "characters = list(sorted_letter_freq.keys())\n",
    "frequencies = list(sorted_letter_freq.values())\n",
    "\n",
    "plt.barh(characters, frequencies, color='blue')\n",
    "\n",
    "#labels\n",
    "plt.xlabel('Frequency')\n",
    "plt.ylabel('Character')\n",
    "plt.title('Frequency Distribution of Characters in Text')\n",
    "\n",
    "plt.xticks(frequencies)\n",
    "\n",
    "plt.show()\n",
    "\n",
    "\n",
    "# make a bar plot with an appropriate title, correct xtick labels, and labeled axes"
   ]
  },
  {
   "cell_type": "markdown",
   "metadata": {},
   "source": [
    "2. Generate a sequence of at least 5 random numbers (integers are fine), and visualize the data using both `scatter` and `plot` on different axes.  You may use the index of the value as its x value in the plot."
   ]
  },
  {
   "cell_type": "code",
   "execution_count": null,
   "metadata": {},
   "outputs": [],
   "source": []
  },
  {
   "cell_type": "markdown",
   "metadata": {},
   "source": [
    "3. Do the same question as above, but change the syle and color of both the scatter and the plot."
   ]
  },
  {
   "cell_type": "code",
   "execution_count": null,
   "metadata": {},
   "outputs": [],
   "source": []
  },
  {
   "cell_type": "markdown",
   "metadata": {},
   "source": [
    "4. Given the data sets below, plot or scatter both on the same set of axes.  You are plotting the time it takes to execute a sorting algorithm on a list of a given size; your x axis should be the size, and the y axis is time.  Assume that `insertion_sort_times[i]` is how long it took to sort a list of length `sizes[i]`.  Add a legend to your plot showing which is insertion sort and which is merge sort.  Use the variable names to determine which data is which. "
   ]
  },
  {
   "cell_type": "code",
   "execution_count": 11,
   "metadata": {},
   "outputs": [],
   "source": [
    "sizes = [10, 20, 50, 100, 1000, 5000]\n",
    "insertion_sort_times = [0.0010252999999999998, 0.0027026999999999954, 0.010147200000000002, 0.0381137, 3.6303399, 91.2180796]\n",
    "merge_sort_times = [0.00161889999999687, 0.003635600000009731, 0.0090655000000055, 0.020108000000007564, 0.2687474000000094, 1.6147050999999948]"
   ]
  }
 ],
 "metadata": {
  "kernelspec": {
   "display_name": "Python 3",
   "language": "python",
   "name": "python3"
  },
  "language_info": {
   "codemirror_mode": {
    "name": "ipython",
    "version": 3
   },
   "file_extension": ".py",
   "mimetype": "text/x-python",
   "name": "python",
   "nbconvert_exporter": "python",
   "pygments_lexer": "ipython3",
   "version": "3.13.3"
  }
 },
 "nbformat": 4,
 "nbformat_minor": 4
}
